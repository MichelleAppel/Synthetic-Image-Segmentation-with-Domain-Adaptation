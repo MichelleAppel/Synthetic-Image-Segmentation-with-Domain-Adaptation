{
 "cells": [
  {
   "cell_type": "code",
   "execution_count": 8,
   "metadata": {},
   "outputs": [],
   "source": [
    "import os\n",
    "os.environ['KMP_DUPLICATE_LIB_OK']='True'"
   ]
  },
  {
   "cell_type": "code",
   "execution_count": 9,
   "metadata": {},
   "outputs": [],
   "source": [
    "from pytorch_lightning.loggers import WandbLogger"
   ]
  },
  {
   "cell_type": "code",
   "execution_count": 10,
   "metadata": {},
   "outputs": [
    {
     "name": "stderr",
     "output_type": "stream",
     "text": [
      "c:\\Users\\appel\\anaconda3\\envs\\ML\\lib\\site-packages\\hydra\\experimental\\initialize.py:43: UserWarning: hydra.experimental.initialize() is no longer experimental. Use hydra.initialize()\n",
      "  deprecation_warning(message=message)\n",
      "c:\\Users\\appel\\anaconda3\\envs\\ML\\lib\\site-packages\\hydra\\experimental\\initialize.py:45: UserWarning: \n",
      "The version_base parameter is not specified.\n",
      "Please specify a compatability version level, or None.\n",
      "Will assume defaults for version 1.1\n",
      "  self.delegate = real_initialize(\n"
     ]
    },
    {
     "ename": "ValueError",
     "evalue": "GlobalHydra is already initialized, call GlobalHydra.instance().clear() if you want to re-initialize",
     "output_type": "error",
     "traceback": [
      "\u001b[1;31m---------------------------------------------------------------------------\u001b[0m",
      "\u001b[1;31mValueError\u001b[0m                                Traceback (most recent call last)",
      "\u001b[1;32md:\\Appel\\Improved Edge detection\\Synthetic-Image-Segmentation-with-Domain-Adaptation\\src\\domain_adaptation\\cyclegan\\wandbloggertest.ipynb Cell 3\u001b[0m line \u001b[0;36m7\n\u001b[0;32m      <a href='vscode-notebook-cell:/d%3A/Appel/Improved%20Edge%20detection/Synthetic-Image-Segmentation-with-Domain-Adaptation/src/domain_adaptation/cyclegan/wandbloggertest.ipynb#W3sZmlsZQ%3D%3D?line=3'>4</a>\u001b[0m \u001b[39mfrom\u001b[39;00m \u001b[39mhydra\u001b[39;00m\u001b[39m.\u001b[39;00m\u001b[39mexperimental\u001b[39;00m \u001b[39mimport\u001b[39;00m initialize, compose\n\u001b[0;32m      <a href='vscode-notebook-cell:/d%3A/Appel/Improved%20Edge%20detection/Synthetic-Image-Segmentation-with-Domain-Adaptation/src/domain_adaptation/cyclegan/wandbloggertest.ipynb#W3sZmlsZQ%3D%3D?line=5'>6</a>\u001b[0m \u001b[39m# load hydra config\u001b[39;00m\n\u001b[1;32m----> <a href='vscode-notebook-cell:/d%3A/Appel/Improved%20Edge%20detection/Synthetic-Image-Segmentation-with-Domain-Adaptation/src/domain_adaptation/cyclegan/wandbloggertest.ipynb#W3sZmlsZQ%3D%3D?line=6'>7</a>\u001b[0m initialize(config_path\u001b[39m=\u001b[39;49m\u001b[39m\"\u001b[39;49m\u001b[39mconfig\u001b[39;49m\u001b[39m\"\u001b[39;49m)\n",
      "File \u001b[1;32mc:\\Users\\appel\\anaconda3\\envs\\ML\\lib\\site-packages\\hydra\\experimental\\initialize.py:45\u001b[0m, in \u001b[0;36minitialize.__init__\u001b[1;34m(self, config_path, job_name, caller_stack_depth)\u001b[0m\n\u001b[0;32m     41\u001b[0m     \u001b[39mraise\u001b[39;00m \u001b[39mImportError\u001b[39;00m(message)\n\u001b[0;32m     43\u001b[0m deprecation_warning(message\u001b[39m=\u001b[39mmessage)\n\u001b[1;32m---> 45\u001b[0m \u001b[39mself\u001b[39m\u001b[39m.\u001b[39mdelegate \u001b[39m=\u001b[39m real_initialize(\n\u001b[0;32m     46\u001b[0m     config_path\u001b[39m=\u001b[39;49mconfig_path,\n\u001b[0;32m     47\u001b[0m     job_name\u001b[39m=\u001b[39;49mjob_name,\n\u001b[0;32m     48\u001b[0m     caller_stack_depth\u001b[39m=\u001b[39;49mcaller_stack_depth \u001b[39m+\u001b[39;49m \u001b[39m1\u001b[39;49m,\n\u001b[0;32m     49\u001b[0m )\n",
      "File \u001b[1;32mc:\\Users\\appel\\anaconda3\\envs\\ML\\lib\\site-packages\\hydra\\initialize.py:91\u001b[0m, in \u001b[0;36minitialize.__init__\u001b[1;34m(self, config_path, job_name, caller_stack_depth, version_base)\u001b[0m\n\u001b[0;32m     86\u001b[0m \u001b[39mif\u001b[39;00m job_name \u001b[39mis\u001b[39;00m \u001b[39mNone\u001b[39;00m:\n\u001b[0;32m     87\u001b[0m     job_name \u001b[39m=\u001b[39m detect_task_name(\n\u001b[0;32m     88\u001b[0m         calling_file\u001b[39m=\u001b[39mcalling_file, calling_module\u001b[39m=\u001b[39mcalling_module\n\u001b[0;32m     89\u001b[0m     )\n\u001b[1;32m---> 91\u001b[0m Hydra\u001b[39m.\u001b[39;49mcreate_main_hydra_file_or_module(\n\u001b[0;32m     92\u001b[0m     calling_file\u001b[39m=\u001b[39;49mcalling_file,\n\u001b[0;32m     93\u001b[0m     calling_module\u001b[39m=\u001b[39;49mcalling_module,\n\u001b[0;32m     94\u001b[0m     config_path\u001b[39m=\u001b[39;49mconfig_path,\n\u001b[0;32m     95\u001b[0m     job_name\u001b[39m=\u001b[39;49mjob_name,\n\u001b[0;32m     96\u001b[0m )\n",
      "File \u001b[1;32mc:\\Users\\appel\\anaconda3\\envs\\ML\\lib\\site-packages\\hydra\\_internal\\hydra.py:53\u001b[0m, in \u001b[0;36mHydra.create_main_hydra_file_or_module\u001b[1;34m(cls, calling_file, calling_module, config_path, job_name)\u001b[0m\n\u001b[0;32m     41\u001b[0m \u001b[39m@classmethod\u001b[39m\n\u001b[0;32m     42\u001b[0m \u001b[39mdef\u001b[39;00m \u001b[39mcreate_main_hydra_file_or_module\u001b[39m(\n\u001b[0;32m     43\u001b[0m     \u001b[39mcls\u001b[39m: Type[\u001b[39m\"\u001b[39m\u001b[39mHydra\u001b[39m\u001b[39m\"\u001b[39m],\n\u001b[1;32m   (...)\u001b[0m\n\u001b[0;32m     47\u001b[0m     job_name: \u001b[39mstr\u001b[39m,\n\u001b[0;32m     48\u001b[0m ) \u001b[39m-\u001b[39m\u001b[39m>\u001b[39m \u001b[39m\"\u001b[39m\u001b[39mHydra\u001b[39m\u001b[39m\"\u001b[39m:\n\u001b[0;32m     49\u001b[0m     config_search_path \u001b[39m=\u001b[39m create_automatic_config_search_path(\n\u001b[0;32m     50\u001b[0m         calling_file, calling_module, config_path\n\u001b[0;32m     51\u001b[0m     )\n\u001b[1;32m---> 53\u001b[0m     \u001b[39mreturn\u001b[39;00m Hydra\u001b[39m.\u001b[39;49mcreate_main_hydra2(job_name, config_search_path)\n",
      "File \u001b[1;32mc:\\Users\\appel\\anaconda3\\envs\\ML\\lib\\site-packages\\hydra\\_internal\\hydra.py:68\u001b[0m, in \u001b[0;36mHydra.create_main_hydra2\u001b[1;34m(cls, task_name, config_search_path)\u001b[0m\n\u001b[0;32m     65\u001b[0m hydra \u001b[39m=\u001b[39m \u001b[39mcls\u001b[39m(task_name\u001b[39m=\u001b[39mtask_name, config_loader\u001b[39m=\u001b[39mconfig_loader)\n\u001b[0;32m     66\u001b[0m \u001b[39mfrom\u001b[39;00m \u001b[39mhydra\u001b[39;00m\u001b[39m.\u001b[39;00m\u001b[39mcore\u001b[39;00m\u001b[39m.\u001b[39;00m\u001b[39mglobal_hydra\u001b[39;00m \u001b[39mimport\u001b[39;00m GlobalHydra\n\u001b[1;32m---> 68\u001b[0m GlobalHydra\u001b[39m.\u001b[39;49minstance()\u001b[39m.\u001b[39;49minitialize(hydra)\n\u001b[0;32m     69\u001b[0m \u001b[39mreturn\u001b[39;00m hydra\n",
      "File \u001b[1;32mc:\\Users\\appel\\anaconda3\\envs\\ML\\lib\\site-packages\\hydra\\core\\global_hydra.py:16\u001b[0m, in \u001b[0;36mGlobalHydra.initialize\u001b[1;34m(self, hydra)\u001b[0m\n\u001b[0;32m     14\u001b[0m \u001b[39massert\u001b[39;00m \u001b[39misinstance\u001b[39m(hydra, Hydra), \u001b[39mf\u001b[39m\u001b[39m\"\u001b[39m\u001b[39mUnexpected Hydra type : \u001b[39m\u001b[39m{\u001b[39;00m\u001b[39mtype\u001b[39m(hydra)\u001b[39m}\u001b[39;00m\u001b[39m\"\u001b[39m\n\u001b[0;32m     15\u001b[0m \u001b[39mif\u001b[39;00m \u001b[39mself\u001b[39m\u001b[39m.\u001b[39mis_initialized():\n\u001b[1;32m---> 16\u001b[0m     \u001b[39mraise\u001b[39;00m \u001b[39mValueError\u001b[39;00m(\n\u001b[0;32m     17\u001b[0m         \u001b[39m\"\u001b[39m\u001b[39mGlobalHydra is already initialized, call GlobalHydra.instance().clear() if you want to re-initialize\u001b[39m\u001b[39m\"\u001b[39m\n\u001b[0;32m     18\u001b[0m     )\n\u001b[0;32m     19\u001b[0m \u001b[39mself\u001b[39m\u001b[39m.\u001b[39mhydra \u001b[39m=\u001b[39m hydra\n",
      "\u001b[1;31mValueError\u001b[0m: GlobalHydra is already initialized, call GlobalHydra.instance().clear() if you want to re-initialize"
     ]
    }
   ],
   "source": [
    "# load hydra config in ipynb\n",
    "import hydra\n",
    "from omegaconf import DictConfig\n",
    "from hydra.experimental import initialize, compose\n",
    "\n",
    "# load hydra config\n",
    "initialize(config_path=\"config\")"
   ]
  },
  {
   "cell_type": "code",
   "execution_count": 11,
   "metadata": {},
   "outputs": [],
   "source": [
    "cfg = compose(config_name=\"config.yaml\")"
   ]
  },
  {
   "cell_type": "code",
   "execution_count": 22,
   "metadata": {},
   "outputs": [],
   "source": [
    "wandb_logger = WandbLogger(project='CycleGAN', config=cfg, name=cfg.train.name)"
   ]
  },
  {
   "cell_type": "code",
   "execution_count": 23,
   "metadata": {},
   "outputs": [
    {
     "data": {
      "text/plain": [
       "<pytorch_lightning.loggers.wandb.WandbLogger at 0x2544c7919a0>"
      ]
     },
     "execution_count": 23,
     "metadata": {},
     "output_type": "execute_result"
    }
   ],
   "source": [
    "wandb_logger"
   ]
  },
  {
   "cell_type": "code",
   "execution_count": 24,
   "metadata": {},
   "outputs": [],
   "source": [
    "model = 1"
   ]
  },
  {
   "cell_type": "code",
   "execution_count": 21,
   "metadata": {},
   "outputs": [
    {
     "name": "stdout",
     "output_type": "stream",
     "text": [
      "<pytorch_lightning.loggers.wandb.WandbLogger object at 0x000002544B983190>\n"
     ]
    },
    {
     "ename": "AttributeError",
     "evalue": "'str' object has no attribute 'watch'",
     "output_type": "error",
     "traceback": [
      "\u001b[1;31m---------------------------------------------------------------------------\u001b[0m",
      "\u001b[1;31mAttributeError\u001b[0m                            Traceback (most recent call last)",
      "\u001b[1;32md:\\Appel\\Improved Edge detection\\Synthetic-Image-Segmentation-with-Domain-Adaptation\\src\\domain_adaptation\\cyclegan\\wandbloggertest.ipynb Cell 9\u001b[0m line \u001b[0;36m2\n\u001b[0;32m      <a href='vscode-notebook-cell:/d%3A/Appel/Improved%20Edge%20detection/Synthetic-Image-Segmentation-with-Domain-Adaptation/src/domain_adaptation/cyclegan/wandbloggertest.ipynb#X12sZmlsZQ%3D%3D?line=0'>1</a>\u001b[0m \u001b[39mprint\u001b[39m(wandb_logger)\n\u001b[1;32m----> <a href='vscode-notebook-cell:/d%3A/Appel/Improved%20Edge%20detection/Synthetic-Image-Segmentation-with-Domain-Adaptation/src/domain_adaptation/cyclegan/wandbloggertest.ipynb#X12sZmlsZQ%3D%3D?line=1'>2</a>\u001b[0m wandb_logger\u001b[39m.\u001b[39;49mwatch(\u001b[39m1\u001b[39;49m)\n",
      "File \u001b[1;32mc:\\Users\\appel\\anaconda3\\envs\\ML\\lib\\site-packages\\pytorch_lightning\\loggers\\wandb.py:411\u001b[0m, in \u001b[0;36mWandbLogger.watch\u001b[1;34m(self, model, log, log_freq, log_graph)\u001b[0m\n\u001b[0;32m    410\u001b[0m \u001b[39mdef\u001b[39;00m \u001b[39mwatch\u001b[39m(\u001b[39mself\u001b[39m, model: nn\u001b[39m.\u001b[39mModule, log: \u001b[39mstr\u001b[39m \u001b[39m=\u001b[39m \u001b[39m\"\u001b[39m\u001b[39mgradients\u001b[39m\u001b[39m\"\u001b[39m, log_freq: \u001b[39mint\u001b[39m \u001b[39m=\u001b[39m \u001b[39m100\u001b[39m, log_graph: \u001b[39mbool\u001b[39m \u001b[39m=\u001b[39m \u001b[39mTrue\u001b[39;00m) \u001b[39m-\u001b[39m\u001b[39m>\u001b[39m \u001b[39mNone\u001b[39;00m:\n\u001b[1;32m--> 411\u001b[0m     \u001b[39mself\u001b[39;49m\u001b[39m.\u001b[39;49mexperiment\u001b[39m.\u001b[39;49mwatch(model, log\u001b[39m=\u001b[39mlog, log_freq\u001b[39m=\u001b[39mlog_freq, log_graph\u001b[39m=\u001b[39mlog_graph)\n",
      "\u001b[1;31mAttributeError\u001b[0m: 'str' object has no attribute 'watch'"
     ]
    }
   ],
   "source": [
    "print(wandb_logger)\n",
    "wandb_logger.watch(1)"
   ]
  }
 ],
 "metadata": {
  "kernelspec": {
   "display_name": "ML",
   "language": "python",
   "name": "python3"
  },
  "language_info": {
   "codemirror_mode": {
    "name": "ipython",
    "version": 3
   },
   "file_extension": ".py",
   "mimetype": "text/x-python",
   "name": "python",
   "nbconvert_exporter": "python",
   "pygments_lexer": "ipython3",
   "version": "3.9.13"
  }
 },
 "nbformat": 4,
 "nbformat_minor": 2
}
